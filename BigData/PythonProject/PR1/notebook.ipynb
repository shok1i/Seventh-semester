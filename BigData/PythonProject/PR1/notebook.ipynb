{
 "cells": [
  {
   "metadata": {},
   "cell_type": "markdown",
   "source": [
    "### Задание 1\n",
    "Написать программу, которая вычисляет площадь фигуры, параметры которой подаются на вход. Фигуры, которые подаются на вход: треугольник, прямоугольник, круг. Результатом работы является словарь, где ключ – это название фигуры, а значение – это площадь."
   ],
   "id": "d695d02e57d37cc4"
  },
  {
   "metadata": {
    "ExecuteTime": {
     "end_time": "2025-09-07T15:23:22.523043Z",
     "start_time": "2025-09-07T15:23:22.519777Z"
    }
   },
   "cell_type": "code",
   "source": [
    "import math\n",
    "\n",
    "\n",
    "def circle(radius):\n",
    "    return radius * radius * math.pi\n",
    "\n",
    "\n",
    "def triangle(side, heigh):\n",
    "    return side * heigh\n",
    "\n",
    "\n",
    "def square(side, s_side=None):\n",
    "    if s_side is None:\n",
    "        s_side = side\n",
    "    return side * s_side\n",
    "\n",
    "\n",
    "if __name__ == '__main__':\n",
    "    dict = {'circle': circle(10), 'triangle': triangle(10, 2), 'square': square(10, 12)}\n",
    "    print(dict)"
   ],
   "id": "fbc121e30a2defb3",
   "outputs": [
    {
     "name": "stdout",
     "output_type": "stream",
     "text": [
      "{'circle': 314.1592653589793, 'triangle': 20, 'square': 120}\n"
     ]
    }
   ],
   "execution_count": 23
  },
  {
   "metadata": {},
   "cell_type": "markdown",
   "source": [
    "### Задание 2\n",
    "Написать программу, которая на вход получает два числа и операцию, которую к ним нужно применить. Должны быть реализованы следующие операции: +, -, /, //, abs – модуль, pow или ** – возведение в степень. Результатом работы программы является одно число."
   ],
   "id": "8335c1477090286f"
  },
  {
   "metadata": {
    "ExecuteTime": {
     "end_time": "2025-09-07T15:23:22.553503Z",
     "start_time": "2025-09-07T15:23:22.550090Z"
    }
   },
   "cell_type": "code",
   "source": [
    "def calculate(string):\n",
    "    string = string.split(' ')\n",
    "    operation = string[2]\n",
    "    a = float(string[0])\n",
    "    b = float(string[1])\n",
    "\n",
    "    operations = {\n",
    "        '+': lambda a, b: a + b,\n",
    "        '-': lambda a, b: a - b,\n",
    "        '*': lambda a, b: a * b,\n",
    "        '/': lambda a, b: a / b,\n",
    "        '**': lambda a, b: a ** b,\n",
    "        '//': lambda a, b: a // b,\n",
    "    }\n",
    "\n",
    "    if operation in operations:\n",
    "        return operations[operation](a, b)\n",
    "    return None\n",
    "\n",
    "\n",
    "if __name__ == '__main__':\n",
    "    print(calculate('12 12 +'))\n"
   ],
   "id": "bf20302eddd19f83",
   "outputs": [
    {
     "name": "stdout",
     "output_type": "stream",
     "text": [
      "24.0\n"
     ]
    }
   ],
   "execution_count": 24
  },
  {
   "metadata": {},
   "cell_type": "markdown",
   "source": [
    "### Задание 3\n",
    "Написать программу, вычисляющую площадь треугольника по переданным длинам трёх его сторон по формуле Герона:"
   ],
   "id": "db79870bf2070af2"
  },
  {
   "metadata": {
    "ExecuteTime": {
     "end_time": "2025-09-07T15:23:22.580475Z",
     "start_time": "2025-09-07T15:23:22.577818Z"
    }
   },
   "cell_type": "code",
   "source": [
    "import math\n",
    "\n",
    "\n",
    "def formula(a, b, c):\n",
    "    p = a + b + c / 2\n",
    "    return math.sqrt(p * (p - a) * (p - b) * (p - c))\n",
    "\n",
    "\n",
    "if __name__ == '__main__':\n",
    "    print(formula(2, 3, 4))"
   ],
   "id": "84ad7d5150dfecac",
   "outputs": [
    {
     "name": "stdout",
     "output_type": "stream",
     "text": [
      "20.493901531919196\n"
     ]
    }
   ],
   "execution_count": 25
  },
  {
   "metadata": {},
   "cell_type": "markdown",
   "source": [
    "### Задание 4\n",
    "Напишите программу, которая считывает с консоли числа (по одному в строке) до тех пор, пока сумма введённых чисел не будет равна 0 и после этого выводит сумму квадратов всех считанных чисел."
   ],
   "id": "4ac3eb50a8a40af3"
  },
  {
   "metadata": {
    "ExecuteTime": {
     "end_time": "2025-09-07T15:23:25.312540Z",
     "start_time": "2025-09-07T15:23:22.605057Z"
    }
   },
   "cell_type": "code",
   "source": [
    "if __name__ == '__main__':\n",
    "    arr = list()\n",
    "    while (num := input()) != '0':\n",
    "        arr.append(int(num) ** 2)\n",
    "\n",
    "    print(sum(arr))"
   ],
   "id": "39b565e1f0fbcf64",
   "outputs": [
    {
     "name": "stdout",
     "output_type": "stream",
     "text": [
      "81\n"
     ]
    }
   ],
   "execution_count": 26
  },
  {
   "metadata": {},
   "cell_type": "markdown",
   "source": [
    "### Задание 5\n",
    "Напишите программу, которая выводит последовательность чисел, длинною N, где каждое число повторяется столько раз, чему оно равно. На вход программе передаётся неотрицательное целое число N. Например, если N = 7, то программа должна вывести 1 2 2 3 3 3 4. Вывод элементов списка через пробел – print(*list)."
   ],
   "id": "7edd51d15eddf19b"
  },
  {
   "metadata": {
    "ExecuteTime": {
     "end_time": "2025-09-07T15:23:25.966384Z",
     "start_time": "2025-09-07T15:23:25.349424Z"
    }
   },
   "cell_type": "code",
   "source": [
    "n = int(input())\n",
    "\n",
    "res = []\n",
    "current_number = 1\n",
    "\n",
    "while len(res) < n:\n",
    "    for i in range(current_number):\n",
    "        if len(res) < n:\n",
    "            res.append(current_number)\n",
    "        else:\n",
    "            break\n",
    "    current_number += 1\n",
    "\n",
    "print(*res)"
   ],
   "id": "96e93d0dcb902086",
   "outputs": [
    {
     "name": "stdout",
     "output_type": "stream",
     "text": [
      "1 2 2 3 3 3 4 4 4\n"
     ]
    }
   ],
   "execution_count": 27
  },
  {
   "metadata": {},
   "cell_type": "markdown",
   "source": [
    "### Задание 6\n",
    "Даны два списка:\n",
    "А = [1, 2, 3, 4, 2, 1, 3, 4, 5, 6, 5, 4, 3, 2]\n",
    "В = [‘a’, ’b’, ’c’, ’c’, ’c’, ’b’, ’a’, ’c’, ’a’, ’a’, ’b’, ’c’, ’b’, ’a’]\n",
    "Создать словарь, в котором ключи – это содержимое списка В, а значения для ключей словаря – это сумма всех элементов списка А в соответствии с буквой, содержащийся на той же позиции в списке В.\n",
    "Пример результата программы: {‘a’ : 10, ‘b’ : 15, ‘c’ : 6}."
   ],
   "id": "bb99d7f8486a1231"
  },
  {
   "metadata": {
    "ExecuteTime": {
     "end_time": "2025-09-07T15:23:26.007619Z",
     "start_time": "2025-09-07T15:23:26.004164Z"
    }
   },
   "cell_type": "code",
   "source": [
    "A = [2, 3, 4, 1]\n",
    "B = ['a', 'b', 'a', 'a']\n",
    "\n",
    "res = {}\n",
    "for i in range(len(A)):\n",
    "    num = A[i]\n",
    "    ltr = B[i]\n",
    "\n",
    "    if ltr in res:\n",
    "        res[ltr] += num\n",
    "    else:\n",
    "        res[ltr] = num\n",
    "\n",
    "print(res)"
   ],
   "id": "62a36ad99d60451c",
   "outputs": [
    {
     "name": "stdout",
     "output_type": "stream",
     "text": [
      "{'a': 7, 'b': 3}\n"
     ]
    }
   ],
   "execution_count": 28
  },
  {
   "metadata": {},
   "cell_type": "markdown",
   "source": [
    "### Задание 7\n",
    "Скачать и загрузить данные о стоимости домов в калифорнии, используя библиотеку sklearn."
   ],
   "id": "9d73c6f708c7478c"
  },
  {
   "metadata": {
    "ExecuteTime": {
     "end_time": "2025-09-07T15:23:26.040886Z",
     "start_time": "2025-09-07T15:23:26.031476Z"
    }
   },
   "cell_type": "code",
   "source": [
    "from sklearn.datasets import fetch_california_housing\n",
    "\n",
    "data = fetch_california_housing(as_frame=True)"
   ],
   "id": "fa3253ba9e4e2664",
   "outputs": [],
   "execution_count": 29
  },
  {
   "metadata": {},
   "cell_type": "markdown",
   "source": [
    "### Задание 8\n",
    "Использовать метод info()."
   ],
   "id": "786d2eb153ceb694"
  },
  {
   "metadata": {
    "ExecuteTime": {
     "end_time": "2025-09-07T15:23:26.070070Z",
     "start_time": "2025-09-07T15:23:26.058613Z"
    }
   },
   "cell_type": "code",
   "source": [
    "from sklearn.datasets import fetch_california_housing\n",
    "\n",
    "data = fetch_california_housing(as_frame=True).frame\n",
    "data.info()"
   ],
   "id": "c1f0d621fc4e71ab",
   "outputs": [
    {
     "name": "stdout",
     "output_type": "stream",
     "text": [
      "<class 'pandas.core.frame.DataFrame'>\n",
      "RangeIndex: 20640 entries, 0 to 20639\n",
      "Data columns (total 9 columns):\n",
      " #   Column       Non-Null Count  Dtype  \n",
      "---  ------       --------------  -----  \n",
      " 0   MedInc       20640 non-null  float64\n",
      " 1   HouseAge     20640 non-null  float64\n",
      " 2   AveRooms     20640 non-null  float64\n",
      " 3   AveBedrms    20640 non-null  float64\n",
      " 4   Population   20640 non-null  float64\n",
      " 5   AveOccup     20640 non-null  float64\n",
      " 6   Latitude     20640 non-null  float64\n",
      " 7   Longitude    20640 non-null  float64\n",
      " 8   MedHouseVal  20640 non-null  float64\n",
      "dtypes: float64(9)\n",
      "memory usage: 1.4 MB\n"
     ]
    }
   ],
   "execution_count": 30
  },
  {
   "metadata": {},
   "cell_type": "markdown",
   "source": [
    "### Задание 9\n",
    "Узнать, есть ли пропущенные значения, используя isna().sum()."
   ],
   "id": "9ae08f1fbbb112e1"
  },
  {
   "metadata": {
    "ExecuteTime": {
     "end_time": "2025-09-07T15:23:26.093855Z",
     "start_time": "2025-09-07T15:23:26.083163Z"
    }
   },
   "cell_type": "code",
   "source": [
    "from sklearn.datasets import fetch_california_housing\n",
    "\n",
    "data = fetch_california_housing(as_frame=True).frame\n",
    "print(data.isnull().sum())"
   ],
   "id": "ee35c24275f4b376",
   "outputs": [
    {
     "name": "stdout",
     "output_type": "stream",
     "text": [
      "MedInc         0\n",
      "HouseAge       0\n",
      "AveRooms       0\n",
      "AveBedrms      0\n",
      "Population     0\n",
      "AveOccup       0\n",
      "Latitude       0\n",
      "Longitude      0\n",
      "MedHouseVal    0\n",
      "dtype: int64\n"
     ]
    }
   ],
   "execution_count": 31
  },
  {
   "metadata": {},
   "cell_type": "markdown",
   "source": [
    "### Задание 10\n",
    "Вывести записи, где средний возраст домов в районе более 50 лет и население более 2500 человек, используя метод loc()."
   ],
   "id": "ae2f9f85a98a1d42"
  },
  {
   "metadata": {
    "ExecuteTime": {
     "end_time": "2025-09-07T15:23:26.118580Z",
     "start_time": "2025-09-07T15:23:26.106616Z"
    }
   },
   "cell_type": "code",
   "source": [
    "from sklearn.datasets import fetch_california_housing\n",
    "\n",
    "data = fetch_california_housing(as_frame=True).frame\n",
    "print(data.loc[(data['HouseAge'] > 50) & (data['Population'] > 2500)])"
   ],
   "id": "852cac1f0ce5c3c8",
   "outputs": [
    {
     "name": "stdout",
     "output_type": "stream",
     "text": [
      "       MedInc  HouseAge  AveRooms  AveBedrms  Population    AveOccup  \\\n",
      "460    1.4012      52.0  3.105714   1.060000      3337.0    9.534286   \n",
      "4131   3.5349      52.0  4.646119   1.047945      2589.0    5.910959   \n",
      "4440   2.6806      52.0  4.806283   1.057592      3062.0    4.007853   \n",
      "5986   1.8750      52.0  4.500000   1.206349      2688.0   21.333333   \n",
      "7369   3.1901      52.0  4.730942   1.017937      3731.0    4.182735   \n",
      "8227   2.3305      52.0  3.488860   1.170380      3018.0    3.955439   \n",
      "13034  6.1359      52.0  8.275862   1.517241      6675.0  230.172414   \n",
      "15634  1.8295      52.0  2.628169   1.053521      2957.0    4.164789   \n",
      "15652  0.9000      52.0  2.237474   1.053535      3260.0    2.237474   \n",
      "15657  2.5166      52.0  2.839075   1.184049      3436.0    1.621520   \n",
      "15659  1.7240      52.0  2.278566   1.082348      4518.0    1.780142   \n",
      "15795  2.5755      52.0  3.402576   1.058776      2619.0    2.108696   \n",
      "15868  2.8135      52.0  4.584329   1.041169      2987.0    3.966799   \n",
      "\n",
      "       Latitude  Longitude  MedHouseVal  \n",
      "460       37.87    -122.26      1.75000  \n",
      "4131      34.13    -118.20      1.93600  \n",
      "4440      34.08    -118.21      1.53000  \n",
      "5986      34.10    -117.71      2.12500  \n",
      "7369      33.97    -118.21      1.67600  \n",
      "8227      33.78    -118.20      1.62500  \n",
      "13034     38.69    -121.15      2.25000  \n",
      "15634     37.80    -122.41      2.43800  \n",
      "15652     37.80    -122.41      5.00001  \n",
      "15657     37.79    -122.41      2.75000  \n",
      "15659     37.79    -122.41      2.25000  \n",
      "15795     37.77    -122.42      3.25000  \n",
      "15868     37.76    -122.41      2.60300  \n"
     ]
    }
   ],
   "execution_count": 32
  },
  {
   "metadata": {},
   "cell_type": "markdown",
   "source": [
    "### Задание 11\n",
    "Узнать максимальное и минимальное значения медианной стоимости дома."
   ],
   "id": "bda02ba367d0f6fa"
  },
  {
   "metadata": {
    "ExecuteTime": {
     "end_time": "2025-09-07T15:24:42.593422Z",
     "start_time": "2025-09-07T15:24:42.583879Z"
    }
   },
   "cell_type": "code",
   "source": [
    "from sklearn.datasets import fetch_california_housing\n",
    "\n",
    "data = fetch_california_housing(as_frame=True).frame\n",
    "print(data['MedHouseVal'].max())\n",
    "print(data['MedHouseVal'].min())"
   ],
   "id": "e2dc5ac46f14004f",
   "outputs": [
    {
     "name": "stdout",
     "output_type": "stream",
     "text": [
      "5.00001\n",
      "0.14999\n"
     ]
    }
   ],
   "execution_count": 34
  },
  {
   "metadata": {},
   "cell_type": "markdown",
   "source": [
    "### Задание 12\n",
    "Используя метод apply(), вывести на экран название признака и его среднее значение."
   ],
   "id": "a79d10859787921e"
  },
  {
   "metadata": {
    "ExecuteTime": {
     "end_time": "2025-09-07T15:24:45.286240Z",
     "start_time": "2025-09-07T15:24:45.276152Z"
    }
   },
   "cell_type": "code",
   "source": [
    "from sklearn.datasets import fetch_california_housing\n",
    "\n",
    "data = fetch_california_housing(as_frame=True).frame\n",
    "\n",
    "mean_values = data.apply(lambda col: col.mean())\n",
    "for column, mean_value in mean_values.items():\n",
    "    print(f\"{column}: {mean_value}\")"
   ],
   "id": "6758d5665b21f711",
   "outputs": [
    {
     "name": "stdout",
     "output_type": "stream",
     "text": [
      "MedInc: 3.8706710029069766\n",
      "HouseAge: 28.639486434108527\n",
      "AveRooms: 5.428999742190376\n",
      "AveBedrms: 1.096675149606208\n",
      "Population: 1425.4767441860465\n",
      "AveOccup: 3.0706551594363742\n",
      "Latitude: 35.63186143410852\n",
      "Longitude: -119.56970445736432\n",
      "MedHouseVal: 2.0685581690891475\n"
     ]
    }
   ],
   "execution_count": 35
  },
  {
   "metadata": {},
   "cell_type": "markdown",
   "source": [
    "### Задание 1*\n",
    "Дан текст на английском языке. Необходимо закодировать его с помощью азбуки Морзе, где каждой букве соответствует последовательность точек и тире. Например, буква «g» превратится в строку «--.». В переменной morze для удобства хранится словарь соответствия латинских букв коду Морзе."
   ],
   "id": "e0ef14af58bb5d2a"
  },
  {
   "metadata": {
    "ExecuteTime": {
     "end_time": "2025-09-07T15:23:26.287022600Z",
     "start_time": "2025-09-05T16:12:17.526635Z"
    }
   },
   "cell_type": "code",
   "source": [
    "morze = {'a': '.-', 'b': '-…', 'c': '-.-.', 'd': '-..', 'e': '.', 'f': '..-.', 'g': '--.', 'h': '….', 'i': '..',\n",
    "         'j': '.---', 'k': '-.-', 'l': '.-..', 'm': '--', 'n': '-.', 'o': '---', 'p': '.--.', 'q': '--.-', 'r': '.-.',\n",
    "         's': '…', 't': '-', 'u': '..-', 'v': '…-', 'w': '.--', 'x': '-..-', 'y': '-.--', 'z': '--..'}\n",
    "\n",
    "def coding(string):\n",
    "    string = string.lower()\n",
    "    word = ''\n",
    "    for char in string:\n",
    "        if char in morze:\n",
    "            word += morze[char] + ' '\n",
    "        else:\n",
    "            word += '\\n'\n",
    "    return word\n",
    "\n",
    "if __name__ == '__main__':\n",
    "    print(coding('Ignition sequence start'))\n",
    "\n"
   ],
   "id": "d0a2b596f9a0ce85",
   "outputs": [
    {
     "name": "stdout",
     "output_type": "stream",
     "text": [
      ".. --. -. .. - .. --- -. \n",
      "… . --.- ..- . -. -.-. . \n",
      "… - .- .-. - \n"
     ]
    }
   ],
   "execution_count": 32
  },
  {
   "metadata": {},
   "cell_type": "markdown",
   "source": [
    "### Задание 2*\n",
    "В некотором городе открывается новая служба по доставке электронных писем. Необходимо наладить систему регистрации новых пользователей. Регистрация должна работать следующим образом: если новый пользователь хочет зарегистрироваться на сайте, то он должен послать системе запрос name со своим именем. Система должна определить, существует ли уже такое имя в базе данных. Если такого имени не существует, то оно заносится в базу данных системы и пользователю возвращается ответ \"ОК\", подтверждающий успешную регистрацию. А если пользователь с таким именем уже существует, то система должна сформировать новое имя и выдать его пользователю в качестве подсказки, при этом сама подсказка также добавляется в базу данных. Новое имя формируется следующим образом: к name последовательно приписываются числа, начиная с 1 (name1, name2 и так далее), и среди них находят такое наименьшее i, что namei еще не содержится в системе."
   ],
   "id": "4bfcd45a489214b"
  },
  {
   "metadata": {
    "ExecuteTime": {
     "end_time": "2025-09-07T15:41:46.316078Z",
     "start_time": "2025-09-07T15:41:37.604838Z"
    }
   },
   "cell_type": "code",
   "source": [
    "i = int(input())\n",
    "data = {}\n",
    "\n",
    "for _ in range(n):\n",
    "    name = input()\n",
    "\n",
    "    if name not in data:\n",
    "        data[name] = 1\n",
    "        print('OK')\n",
    "\n",
    "    else:\n",
    "        tmp_num = data[name]\n",
    "        tmp_name = name + str(tmp_num)\n",
    "\n",
    "        while tmp_name in data:\n",
    "            tmp_num += 1\n",
    "            tmp_name = name + str(tmp_num)\n",
    "        print(tmp_name)\n",
    "        data[name] = tmp_num + 1\n",
    "        data[tmp_name] = 1\n"
   ],
   "id": "25a033115cd4c6e8",
   "outputs": [
    {
     "name": "stdout",
     "output_type": "stream",
     "text": [
      "OK\n",
      "b1\n",
      "b2\n"
     ]
    }
   ],
   "execution_count": 39
  },
  {
   "metadata": {},
   "cell_type": "markdown",
   "source": [
    "### Задание 3*\n",
    "Необходимо создать программу обработки запросов пользователей к файловой системе компьютера. Над каждым файлом можно производить следующие действия: запись – w (\"write\"), чтение – r (\"read\"), запуск – x (\"execute\")."
   ],
   "id": "de464ac7ef912947"
  },
  {
   "metadata": {
    "ExecuteTime": {
     "end_time": "2025-09-07T15:33:38.266927Z",
     "start_time": "2025-09-07T15:32:58.216752Z"
    }
   },
   "cell_type": "code",
   "source": [
    "operation_map = {\n",
    "    \"read\": \"r\",\n",
    "    \"write\": \"w\",\n",
    "    \"execute\": \"x\"\n",
    "}\n",
    "\n",
    "n = int(input())\n",
    "\n",
    "files = {}\n",
    "\n",
    "for _ in range(n):\n",
    "    parts = input().split()\n",
    "    filename, permissions = parts[0], set(parts[1:])\n",
    "    files[filename] = permissions\n",
    "\n",
    "m = int(input())\n",
    "\n",
    "for _ in range(m):\n",
    "    op, filename = input().split()\n",
    "    if operation_map[op] in files[filename]:\n",
    "        print(\"OK\")\n",
    "    else:\n",
    "        print(\"Access denied\")\n"
   ],
   "id": "22fc1842f2342325",
   "outputs": [
    {
     "name": "stdout",
     "output_type": "stream",
     "text": [
      "Access denied\n",
      "OK\n",
      "OK\n",
      "OK\n",
      "OK\n"
     ]
    }
   ],
   "execution_count": 38
  }
 ],
 "metadata": {
  "kernelspec": {
   "display_name": "Python 3",
   "language": "python",
   "name": "python3"
  },
  "language_info": {
   "codemirror_mode": {
    "name": "ipython",
    "version": 2
   },
   "file_extension": ".py",
   "mimetype": "text/x-python",
   "name": "python",
   "nbconvert_exporter": "python",
   "pygments_lexer": "ipython2",
   "version": "2.7.6"
  }
 },
 "nbformat": 4,
 "nbformat_minor": 5
}
